{
 "cells": [
  {
   "cell_type": "code",
   "execution_count": null,
   "id": "82c41688",
   "metadata": {},
   "outputs": [],
   "source": [
    "# %pip install requests\n",
    "import requests\n",
    "base_url = \"http://localhost:8000\""
   ]
  },
  {
   "cell_type": "code",
   "execution_count": null,
   "id": "26cd3244",
   "metadata": {},
   "outputs": [],
   "source": [
    "def login_user(username, password):\n",
    "    url = f\"{base_url}/auth/login\"\n",
    "    response = requests.post(\n",
    "        url, json={\"username\": username, \"password\": password})\n",
    "    print(\"🔐 Login status:\", response.status_code)\n",
    "    token = response.json().get(\"token\")\n",
    "    print(\"✅ Token obtenido correctamente.\" if token else \"❌ No se obtuvo token.\")\n",
    "    return token"
   ]
  },
  {
   "cell_type": "code",
   "execution_count": null,
   "id": "35e505ef",
   "metadata": {},
   "outputs": [],
   "source": [
    "login_info = login_user(\"mait\", \"mait.12.13\")\n",
    "token = login_info['accessToken'] if login_info else None\n",
    "if not token:\n",
    "    print(\"❌ No se pudo obtener el token. Verifica tus credenciales.\")\n",
    "    exit(1)\n",
    "\n",
    "headers = {\"Authorization\": f\"Bearer {token}\"}\n",
    "print(\"🔐 Token:\", token)"
   ]
  },
  {
   "cell_type": "code",
   "execution_count": null,
   "id": "842fa7f9",
   "metadata": {},
   "outputs": [],
   "source": [
    "service = \"funcionarios\"\n",
    "\n",
    "def post(item):\n",
    "    url = f\"{base_url}/{service}/\"\n",
    "    response = requests.post(url, json=item, headers=headers)\n",
    "    print(\"🔐 status:\", response.status_code)\n",
    "    try:\n",
    "        return response.json().get('data', None)\n",
    "    except Exception as e:\n",
    "        return response.text\n",
    "\n",
    "\n",
    "def get_all():\n",
    "    url = f\"{base_url}/{service}/\"\n",
    "    response = requests.get(url, headers=headers)\n",
    "    print(\"🔐 status:\", response.status_code)\n",
    "    return response.json().get('data', None)\n",
    "\n",
    "\n",
    "def get_by_id(funcionario_id):\n",
    "    url = f\"{base_url}/{service}/{funcionario_id}\"\n",
    "    response = requests.get(url, headers=headers)\n",
    "    print(\"🔐 status:\", response.status_code)\n",
    "    return response.json().get('data', None)\n",
    "\n",
    "\n",
    "def put(funcionario_id, item):\n",
    "    url = f\"{base_url}/{service}/{funcionario_id}\"\n",
    "    response = requests.put(url, json=item, headers=headers)\n",
    "    print(\"🔐 status:\", response.status_code)\n",
    "    return response.json().get('data', None)\n",
    "\n",
    "\n",
    "def delete(funcionario_id):\n",
    "    url = f\"{base_url}/{service}/{funcionario_id}\"\n",
    "    response = requests.delete(url, headers=headers)\n",
    "    print(\"🔐 status:\", response.status_code)\n",
    "    return response.json().get('data', None)\n",
    "\n",
    "\n",
    "def count():\n",
    "    url = f\"{base_url}/{service}/count\"\n",
    "    response = requests.get(url, headers=headers)\n",
    "    print(\"🔐 status:\", response.status_code)\n",
    "    if response.status_code == 200:\n",
    "        return response.json().get('data', None)\n",
    "    return response.json().get('data', None)\n",
    "\n",
    "\n",
    "def exists(funcionario_id):\n",
    "    url = f\"{base_url}/{service}/exists/{funcionario_id}\"\n",
    "    response = requests.get(url, headers=headers)\n",
    "    print(\"🔐 status:\", response.status_code)\n",
    "    return response.json().get('data', None)"
   ]
  },
  {
   "cell_type": "code",
   "execution_count": null,
   "id": "0f937c6d",
   "metadata": {},
   "outputs": [],
   "source": [
    "# %pip install faker\n",
    "from faker import Faker\n",
    "import uuid\n",
    "\n",
    "fake = Faker()\n",
    "\n",
    "\n",
    "def generate_fake_data():\n",
    "    return {\n",
    "        \"ContactoId\": str(uuid.uuid4()),  # Nuevo campo\n",
    "        \"SerieDocumentalId\": str(uuid.uuid4()),  # Nuevo campo\n",
    "        # Nuevo campo\n",
    "        \"FechaIngreso\": fake.date_between(start_date=\"-100y\", end_date=\"today\").isoformat(),\n",
    "        # Nuevo campo\n",
    "        \"FechaSeparacion\": fake.date_between(start_date=\"today\", end_date=\"+10y\").isoformat() if fake.boolean() else None,\n",
    "        \"Ministerio\": fake.company(),  # Nuevo campo\n",
    "        # Nuevo campo\n",
    "        \"Categoria\": fake.random_element(elements=(\"Categoria A\", \"Categoria B\", \"Categoria C\")),\n",
    "        # Nuevo campo\n",
    "        \"Nivel\": fake.random_element(elements=(\"A\", \"B\", \"C\", \"D\")),\n",
    "        # Nuevo campo\n",
    "        \"Tipo\": fake.random_element(elements=(\"Contratado\", \"Nombrado\")),\n",
    "        \"Carnet\": fake.bothify(text=\"???-########\"),  # Nuevo campo\n",
    "        # Nuevo campo\n",
    "        \"Cuerpo\": fake.random_element(elements=(\"General\", \"Especial\"))\n",
    "    }"
   ]
  },
  {
   "cell_type": "code",
   "execution_count": null,
   "id": "f1dc136a",
   "metadata": {},
   "outputs": [],
   "source": [
    "# Generar y mostrar 5 contactos ficticios\n",
    "for _ in range(3988):\n",
    "    data = generate_fake_data()\n",
    "    post(data)"
   ]
  },
  {
   "cell_type": "code",
   "execution_count": null,
   "id": "0966794a",
   "metadata": {},
   "outputs": [],
   "source": [
    "n = count()\n",
    "print(\"Total de funcionarios:\", n)"
   ]
  },
  {
   "cell_type": "code",
   "execution_count": null,
   "id": "2491d6ac",
   "metadata": {},
   "outputs": [],
   "source": [
    "print(\"Obteniendo todos los funcionarios:\")\n",
    "all_funcionarios = get_all()\n",
    "print(\"Total de funcionarios obtenidos:\", len(all_funcionarios))\n",
    "print(\"Primer funcionario:\", all_funcionarios[0])\n",
    "print(\"Último funcionario:\", all_funcionarios[-1])\n",
    "\n",
    "\n",
    "for k in range(0, 2):\n",
    "    print(\"Existe el funcionario con id\",\n",
    "        all_funcionarios[k]['id'], \":\", exists(all_funcionarios[k]['id']))"
   ]
  }
 ],
 "metadata": {
  "kernelspec": {
   "display_name": "base",
   "language": "python",
   "name": "python3"
  },
  "language_info": {
   "codemirror_mode": {
    "name": "ipython",
    "version": 3
   },
   "file_extension": ".py",
   "mimetype": "text/x-python",
   "name": "python",
   "nbconvert_exporter": "python",
   "pygments_lexer": "ipython3",
   "version": "3.12.2"
  }
 },
 "nbformat": 4,
 "nbformat_minor": 5
}
